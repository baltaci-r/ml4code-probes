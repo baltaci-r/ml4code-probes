{
 "cells": [
  {
   "cell_type": "code",
   "execution_count": 1,
   "metadata": {
    "pycharm": {
     "name": "#%%\n"
    }
   },
   "outputs": [],
   "source": [
    "from featurizer import *\n",
    "from pathlib import Path"
   ]
  },
  {
   "cell_type": "code",
   "execution_count": 2,
   "metadata": {
    "pycharm": {
     "name": "#%%\n"
    }
   },
   "outputs": [],
   "source": [
    "data_dir = Path('/home/parthdt2/project/code2vec/data/java-small/test/hadoop')\n",
    "assert data_dir.exists()"
   ]
  },
  {
   "cell_type": "code",
   "execution_count": 3,
   "metadata": {
    "pycharm": {
     "name": "#%%\n"
    }
   },
   "outputs": [
    {
     "name": "stderr",
     "output_type": "stream",
     "text": [
      "SLF4J: No SLF4J providers were found.\n",
      "SLF4J: Defaulting to no-operation (NOP) logger implementation\n",
      "SLF4J: See http://www.slf4j.org/codes.html#noProviders for further details.\n"
     ]
    },
    {
     "name": "stdout",
     "output_type": "stream",
     "text": [
      "Processed file #0 out of 5269 percentage: 0%\n",
      "Processed file #263 out of 5269 percentage: 4%\n",
      "Processed file #526 out of 5269 percentage: 9%\n",
      "Processed file #789 out of 5269 percentage: 14%\n",
      "Processed file #1052 out of 5269 percentage: 19%\n",
      "Processed file #1315 out of 5269 percentage: 24%\n",
      "Processed file #1578 out of 5269 percentage: 29%\n",
      "Processed file #1841 out of 5269 percentage: 34%\n",
      "Processed file #2104 out of 5269 percentage: 39%\n",
      "Processed file #2367 out of 5269 percentage: 44%\n",
      "Processed file #2630 out of 5269 percentage: 49%\n",
      "Processed file #2893 out of 5269 percentage: 54%\n",
      "Processed file #3156 out of 5269 percentage: 59%\n",
      "Processed file #3419 out of 5269 percentage: 64%\n",
      "Processed file #3682 out of 5269 percentage: 69%\n",
      "Processed file #3945 out of 5269 percentage: 74%\n",
      "Processed file #4208 out of 5269 percentage: 79%\n",
      "Processed file #4471 out of 5269 percentage: 84%\n"
     ]
    },
    {
     "name": "stderr",
     "output_type": "stream",
     "text": [
      "Timeout in processing file /home/parthdt2/project/code2vec/data/java-small/test/hadoop/Hamlet.java\n"
     ]
    },
    {
     "name": "stdout",
     "output_type": "stream",
     "text": [
      "Processed file #4734 out of 5269 percentage: 89%\n",
      "Processed file #4997 out of 5269 percentage: 94%\n"
     ]
    },
    {
     "ename": "AssertionError",
     "evalue": "",
     "output_type": "error",
     "traceback": [
      "\u001B[0;31m---------------------------------------------------------------------------\u001B[0m",
      "\u001B[0;31mAssertionError\u001B[0m                            Traceback (most recent call last)",
      "\u001B[1;32m/home/parthdt2/project/interpretability/code2vec_exp.ipynb Cell 3'\u001B[0m in \u001B[0;36m<cell line: 7>\u001B[0;34m()\u001B[0m\n\u001B[1;32m      <a href='vscode-notebook-cell://ssh-remote%2B598atlas/home/parthdt2/project/interpretability/code2vec_exp.ipynb#ch0000002vscode-remote?line=4'>5</a>\u001B[0m output_path \u001B[39m=\u001B[39m (Path(\u001B[39m'\u001B[39m\u001B[39m'\u001B[39m)\u001B[39m/\u001B[39m\u001B[39m'\u001B[39m\u001B[39mparsed.jsonl\u001B[39m\u001B[39m'\u001B[39m)\u001B[39m.\u001B[39mabsolute()\n\u001B[1;32m      <a href='vscode-notebook-cell://ssh-remote%2B598atlas/home/parthdt2/project/interpretability/code2vec_exp.ipynb#ch0000002vscode-remote?line=5'>6</a>\u001B[0m ret \u001B[39m=\u001B[39m os\u001B[39m.\u001B[39msystem(\u001B[39mf\u001B[39m\u001B[39m'\u001B[39m\u001B[39mjava -jar ./java_parser/target/java_parser-0.1-jar-with-dependencies.jar -f java_file -d \u001B[39m\u001B[39m{\u001B[39;00mdata_dir\u001B[39m}\u001B[39;00m\u001B[39m -o \u001B[39m\u001B[39m{\u001B[39;00moutput_path\u001B[39m}\u001B[39;00m\u001B[39m'\u001B[39m)\n\u001B[0;32m----> <a href='vscode-notebook-cell://ssh-remote%2B598atlas/home/parthdt2/project/interpretability/code2vec_exp.ipynb#ch0000002vscode-remote?line=6'>7</a>\u001B[0m \u001B[39massert\u001B[39;00m ret \u001B[39m==\u001B[39m \u001B[39m0\u001B[39m\n",
      "\u001B[0;31mAssertionError\u001B[0m: "
     ]
    }
   ],
   "source": [
    "# call `java -jar ./target/java_parser-0.1-jar-with-dependencies.jar -f dir -i {data_dir} -o {cwd}/parsed.jsonl`\n",
    "\n",
    "import os\n",
    "\n",
    "output_path = (Path('')/'parsed.jsonl').absolute()\n",
    "ret = os.system(f'java -jar ./java_parser/target/java_parser-0.1-jar-with-dependencies.jar -f java_file -d {data_dir} -o {output_path}')\n",
    "assert ret == 0"
   ]
  },
  {
   "cell_type": "code",
   "execution_count": 7,
   "metadata": {
    "pycharm": {
     "name": "#%%\n"
    }
   },
   "outputs": [],
   "source": [
    "assert output_path.exists()\n",
    "\n",
    "import json\n",
    "import pandas as pd\n",
    "\n",
    "data_rows = []\n",
    "with open(output_path) as f:\n",
    "    for line in f:\n",
    "        data = json.loads(line)\n",
    "        data_rows.append(data)\n",
    "\n",
    "df = pd.DataFrame(data_rows)"
   ]
  },
  {
   "cell_type": "code",
   "execution_count": 8,
   "metadata": {
    "pycharm": {
     "name": "#%%\n"
    }
   },
   "outputs": [
    {
     "data": {
      "text/html": [
       "<div>\n",
       "<style scoped>\n",
       "    .dataframe tbody tr th:only-of-type {\n",
       "        vertical-align: middle;\n",
       "    }\n",
       "\n",
       "    .dataframe tbody tr th {\n",
       "        vertical-align: top;\n",
       "    }\n",
       "\n",
       "    .dataframe thead th {\n",
       "        text-align: right;\n",
       "    }\n",
       "</style>\n",
       "<table border=\"1\" class=\"dataframe\">\n",
       "  <thead>\n",
       "    <tr style=\"text-align: right;\">\n",
       "      <th></th>\n",
       "      <th>class</th>\n",
       "      <th>method</th>\n",
       "      <th>code</th>\n",
       "      <th>features</th>\n",
       "    </tr>\n",
       "  </thead>\n",
       "  <tbody>\n",
       "    <tr>\n",
       "      <th>0</th>\n",
       "      <td>TestHtmlPage</td>\n",
       "      <td>testShort</td>\n",
       "      <td>@Test(expected = WebAppException.class)\\npubli...</td>\n",
       "      <td>{'catchesException': 'false', 'hasIfStatement'...</td>\n",
       "    </tr>\n",
       "    <tr>\n",
       "      <th>1</th>\n",
       "      <td>TrustedChannelResolver</td>\n",
       "      <td>getConf</td>\n",
       "      <td>@Override\\npublic Configuration getConf() {\\n ...</td>\n",
       "      <td>{'catchesException': 'false', 'hasIfStatement'...</td>\n",
       "    </tr>\n",
       "    <tr>\n",
       "      <th>2</th>\n",
       "      <td>TestInfoBlock</td>\n",
       "      <td>setup</td>\n",
       "      <td>@Before\\npublic void setup() {\\n    sw = new S...</td>\n",
       "      <td>{'catchesException': 'false', 'hasIfStatement'...</td>\n",
       "    </tr>\n",
       "    <tr>\n",
       "      <th>3</th>\n",
       "      <td>TrustedChannelResolver</td>\n",
       "      <td>getInstance</td>\n",
       "      <td>/**\\n * Returns an instance of TrustedChannelR...</td>\n",
       "      <td>{'catchesException': 'false', 'hasIfStatement'...</td>\n",
       "    </tr>\n",
       "    <tr>\n",
       "      <th>4</th>\n",
       "      <td>TrustedChannelResolver</td>\n",
       "      <td>isTrusted</td>\n",
       "      <td>/**\\n * Return boolean value indicating whethe...</td>\n",
       "      <td>{'catchesException': 'false', 'hasIfStatement'...</td>\n",
       "    </tr>\n",
       "    <tr>\n",
       "      <th>...</th>\n",
       "      <td>...</td>\n",
       "      <td>...</td>\n",
       "      <td>...</td>\n",
       "      <td>...</td>\n",
       "    </tr>\n",
       "    <tr>\n",
       "      <th>41714</th>\n",
       "      <td>TestApplicationLimits</td>\n",
       "      <td>testLimitsComputation</td>\n",
       "      <td>@Test\\npublic void testLimitsComputation() thr...</td>\n",
       "      <td>{'catchesException': 'false', 'hasIfStatement'...</td>\n",
       "    </tr>\n",
       "    <tr>\n",
       "      <th>41715</th>\n",
       "      <td>NNThroughputBenchmark</td>\n",
       "      <td>run</td>\n",
       "      <td>/**\\n * Main method of the benchmark.\\n *\\n * ...</td>\n",
       "      <td>{'catchesException': 'true', 'hasIfStatement':...</td>\n",
       "    </tr>\n",
       "    <tr>\n",
       "      <th>41716</th>\n",
       "      <td>NNThroughputBenchmark</td>\n",
       "      <td>runBenchmark</td>\n",
       "      <td>public static void runBenchmark(Configuration ...</td>\n",
       "      <td>{'catchesException': 'false', 'hasIfStatement'...</td>\n",
       "    </tr>\n",
       "    <tr>\n",
       "      <th>41717</th>\n",
       "      <td>NNThroughputBenchmark</td>\n",
       "      <td>setConf</td>\n",
       "      <td>// Configurable\\n@Override\\npublic void setCon...</td>\n",
       "      <td>{'catchesException': 'false', 'hasIfStatement'...</td>\n",
       "    </tr>\n",
       "    <tr>\n",
       "      <th>41718</th>\n",
       "      <td>NNThroughputBenchmark</td>\n",
       "      <td>setNameNodeLoggingLevel</td>\n",
       "      <td>static void setNameNodeLoggingLevel(Level logL...</td>\n",
       "      <td>{'catchesException': 'false', 'hasIfStatement'...</td>\n",
       "    </tr>\n",
       "  </tbody>\n",
       "</table>\n",
       "<p>41719 rows × 4 columns</p>\n",
       "</div>"
      ],
      "text/plain": [
       "                        class                   method  \\\n",
       "0                TestHtmlPage                testShort   \n",
       "1      TrustedChannelResolver                  getConf   \n",
       "2               TestInfoBlock                    setup   \n",
       "3      TrustedChannelResolver              getInstance   \n",
       "4      TrustedChannelResolver                isTrusted   \n",
       "...                       ...                      ...   \n",
       "41714   TestApplicationLimits    testLimitsComputation   \n",
       "41715   NNThroughputBenchmark                      run   \n",
       "41716   NNThroughputBenchmark             runBenchmark   \n",
       "41717   NNThroughputBenchmark                  setConf   \n",
       "41718   NNThroughputBenchmark  setNameNodeLoggingLevel   \n",
       "\n",
       "                                                    code  \\\n",
       "0      @Test(expected = WebAppException.class)\\npubli...   \n",
       "1      @Override\\npublic Configuration getConf() {\\n ...   \n",
       "2      @Before\\npublic void setup() {\\n    sw = new S...   \n",
       "3      /**\\n * Returns an instance of TrustedChannelR...   \n",
       "4      /**\\n * Return boolean value indicating whethe...   \n",
       "...                                                  ...   \n",
       "41714  @Test\\npublic void testLimitsComputation() thr...   \n",
       "41715  /**\\n * Main method of the benchmark.\\n *\\n * ...   \n",
       "41716  public static void runBenchmark(Configuration ...   \n",
       "41717  // Configurable\\n@Override\\npublic void setCon...   \n",
       "41718  static void setNameNodeLoggingLevel(Level logL...   \n",
       "\n",
       "                                                features  \n",
       "0      {'catchesException': 'false', 'hasIfStatement'...  \n",
       "1      {'catchesException': 'false', 'hasIfStatement'...  \n",
       "2      {'catchesException': 'false', 'hasIfStatement'...  \n",
       "3      {'catchesException': 'false', 'hasIfStatement'...  \n",
       "4      {'catchesException': 'false', 'hasIfStatement'...  \n",
       "...                                                  ...  \n",
       "41714  {'catchesException': 'false', 'hasIfStatement'...  \n",
       "41715  {'catchesException': 'true', 'hasIfStatement':...  \n",
       "41716  {'catchesException': 'false', 'hasIfStatement'...  \n",
       "41717  {'catchesException': 'false', 'hasIfStatement'...  \n",
       "41718  {'catchesException': 'false', 'hasIfStatement'...  \n",
       "\n",
       "[41719 rows x 4 columns]"
      ]
     },
     "execution_count": 8,
     "metadata": {},
     "output_type": "execute_result"
    }
   ],
   "source": [
    "df"
   ]
  },
  {
   "cell_type": "code",
   "execution_count": 29,
   "metadata": {
    "pycharm": {
     "name": "#%%\n"
    }
   },
   "outputs": [
    {
     "name": "stdout",
     "output_type": "stream",
     "text": [
      "map: has_function_call \n",
      "process: \n",
      "reduce: has_function_call has_while_statement \n",
      "generateTextFile: has_for_statement has_function_call has_if_statement has_switch_statement has_try_catch_statement \n",
      "pad: has_for_statement has_function_call \n",
      "setupJob: has_function_call has_if_statement \n",
      "runJobInSequence: has_for_statement has_function_call \n",
      "main: has_function_call \n",
      "run: has_for_statement has_function_call has_if_statement has_try_catch_statement \n"
     ]
    }
   ],
   "source": [
    "files = list(data_dir.glob('**/*.java'))\n",
    "data_features = []\n",
    "\n",
    "for file in files[:1]:\n",
    "    method_asts = parser_helper(file.read_text(), 'java_file')\n",
    "    methods = [MethodFeaturizer(m) for m in method_asts]\n",
    "    for m in methods:\n",
    "        name = m.ast.name\n",
    "        # functions starting with has_\n",
    "        feature_fns = [f for f in dir(m) if f.startswith('has_')]\n",
    "        print(f\"{name}:\", end=' ')\n",
    "        for f in feature_fns:\n",
    "            if getattr(m, f)():\n",
    "                print(f, end=' ')\n",
    "        print()"
   ]
  },
  {
   "cell_type": "code",
   "execution_count": 14,
   "metadata": {
    "pycharm": {
     "name": "#%%\n"
    }
   },
   "outputs": [
    {
     "data": {
      "text/plain": [
       "['IOException']"
      ]
     },
     "execution_count": 14,
     "metadata": {},
     "output_type": "execute_result"
    }
   ],
   "source": [
    "methods[0].ast.throws"
   ]
  },
  {
   "cell_type": "code",
   "execution_count": 21,
   "metadata": {
    "pycharm": {
     "name": "#%%\n"
    }
   },
   "outputs": [
    {
     "name": "stdout",
     "output_type": "stream",
     "text": [
      "<class 'javalang.tree.MethodDeclaration'> map\n",
      "<class 'javalang.tree.FormalParameter'> key\n",
      "<class 'javalang.tree.ReferenceType'> WritableComparable\n",
      "<class 'javalang.tree.FormalParameter'> value\n",
      "<class 'javalang.tree.ReferenceType'> Text\n",
      "<class 'javalang.tree.FormalParameter'> output\n",
      "<class 'javalang.tree.ReferenceType'> OutputCollector\n",
      "<class 'javalang.tree.TypeArgument'> ['type', 'pattern_type']\n",
      "<class 'javalang.tree.ReferenceType'> UTF8\n",
      "<class 'javalang.tree.TypeArgument'> ['type', 'pattern_type']\n",
      "<class 'javalang.tree.ReferenceType'> UTF8\n",
      "<class 'javalang.tree.FormalParameter'> reporter\n",
      "<class 'javalang.tree.ReferenceType'> Reporter\n",
      "<class 'javalang.tree.LocalVariableDeclaration'> ['modifiers', 'annotations', 'type', 'declarators']\n",
      "<class 'javalang.tree.ReferenceType'> String\n",
      "<class 'javalang.tree.VariableDeclarator'> line\n",
      "<class 'javalang.tree.MethodInvocation'> ['prefix_operators', 'postfix_operators', 'qualifier', 'selectors', 'type_arguments', 'arguments', 'member']\n",
      "<class 'javalang.tree.StatementExpression'> ['label', 'expression']\n",
      "<class 'javalang.tree.MethodInvocation'> ['prefix_operators', 'postfix_operators', 'qualifier', 'selectors', 'type_arguments', 'arguments', 'member']\n",
      "<class 'javalang.tree.ClassCreator'> ['prefix_operators', 'postfix_operators', 'qualifier', 'selectors', 'type', 'constructor_type_arguments', 'arguments', 'body']\n",
      "<class 'javalang.tree.ReferenceType'> UTF8\n",
      "<class 'javalang.tree.MethodInvocation'> ['prefix_operators', 'postfix_operators', 'qualifier', 'selectors', 'type_arguments', 'arguments', 'member']\n",
      "<class 'javalang.tree.MemberReference'> ['prefix_operators', 'postfix_operators', 'qualifier', 'selectors', 'member']\n",
      "<class 'javalang.tree.ClassCreator'> ['prefix_operators', 'postfix_operators', 'qualifier', 'selectors', 'type', 'constructor_type_arguments', 'arguments', 'body']\n",
      "<class 'javalang.tree.ReferenceType'> UTF8\n",
      "<class 'javalang.tree.Literal'> ['prefix_operators', 'postfix_operators', 'qualifier', 'selectors', 'value']\n"
     ]
    }
   ],
   "source": [
    "for _, node in methods[0].ast:\n",
    "    print(type(node), node.name if hasattr(node, 'name') else node.attrs) #{a: getattr(node, a) for a in node.attrs})"
   ]
  },
  {
   "cell_type": "code",
   "execution_count": null,
   "metadata": {
    "pycharm": {
     "name": "#%%\n"
    }
   },
   "outputs": [],
   "source": []
  }
 ],
 "metadata": {
  "interpreter": {
   "hash": "f8722ba49b3127895a986893a0dabf8c1d60f2b5af6c1a30edefcc1a4d98fbf0"
  },
  "kernelspec": {
   "display_name": "Python 3.8.13 64-bit ('3.8.13')",
   "language": "python",
   "name": "python3"
  },
  "language_info": {
   "codemirror_mode": {
    "name": "ipython",
    "version": 3
   },
   "file_extension": ".py",
   "mimetype": "text/x-python",
   "name": "python",
   "nbconvert_exporter": "python",
   "pygments_lexer": "ipython3",
   "version": "3.8.13"
  },
  "orig_nbformat": 4
 },
 "nbformat": 4,
 "nbformat_minor": 2
}
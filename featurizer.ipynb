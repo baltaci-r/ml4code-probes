{
 "cells": [
  {
   "cell_type": "code",
   "execution_count": 4,
   "metadata": {},
   "outputs": [],
   "source": [
    "import javalang"
   ]
  },
  {
   "cell_type": "code",
   "execution_count": 55,
   "metadata": {},
   "outputs": [],
   "source": [
    "class Featurizer:\n",
    "    def __init__(self, method_code: str):\n",
    "        self.code = method_code\n",
    "        self.toks = javalang.tokenizer.tokenize(self.code)\n",
    "        self.ast = list(javalang.parser.Parser(self.toks).parse().filter(javalang.tree.MethodDeclaration))[0][1]\n",
    "    \n",
    "    def has_if_statement(self):\n",
    "        return list(self.ast.filter(javalang.tree.IfStatement)) != []\n",
    "    \n",
    "    def has_while_statement(self):\n",
    "        return list(self.ast.filter(javalang.tree.WhileStatement)) != []\n",
    "    \n",
    "    def has_for_statement(self):\n",
    "        return list(self.ast.filter(javalang.tree.ForStatement)) != []\n",
    "    \n",
    "    def has_switch_statement(self):\n",
    "        return list(self.ast.filter(javalang.tree.SwitchStatement)) != []\n",
    "    \n",
    "    def has_try_catch_statement(self):\n",
    "        return list(self.ast.filter(javalang.tree.TryStatement)) != []\n",
    "    \n",
    "    def has_throw_statement(self):\n",
    "        return list(self.ast.filter(javalang.tree.ThrowStatement)) != []\n",
    "    \n",
    "    def has_function_call(self):\n",
    "        return list(self.ast.filter(javalang.tree.MethodInvocation)) != []"
   ]
  },
  {
   "cell_type": "code",
   "execution_count": 56,
   "metadata": {},
   "outputs": [],
   "source": [
    "f = Featurizer('class FooTest { public void foo() { if (true) { System.out.println(\"Hello\"); } } }')\n",
    "assert f.has_if_statement()"
   ]
  },
  {
   "cell_type": "code",
   "execution_count": 57,
   "metadata": {},
   "outputs": [],
   "source": [
    "f = Featurizer('class FooTest { public void foo() { while (true) { System.out.println(\"Hello\"); } } }')\n",
    "assert f.has_while_statement()"
   ]
  },
  {
   "cell_type": "code",
   "execution_count": 58,
   "metadata": {},
   "outputs": [],
   "source": [
    "f = Featurizer('class FooTest { public void foo() { for (int i = 0; i < 10; i++) { System.out.println(\"Hello\"); } } }')\n",
    "assert f.has_for_statement()"
   ]
  },
  {
   "cell_type": "code",
   "execution_count": 59,
   "metadata": {},
   "outputs": [],
   "source": [
    "f = Featurizer('class FooTest { public void foo() { switch (1) { case 1: System.out.println(\"Hello\"); } } }')\n",
    "assert f.has_switch_statement()"
   ]
  },
  {
   "cell_type": "code",
   "execution_count": 60,
   "metadata": {},
   "outputs": [],
   "source": [
    "f = Featurizer('class FooTest { public void foo() { try { System.out.println(\"Hello\"); } catch (Exception e) { } } }')\n",
    "assert f.has_try_catch_statement()"
   ]
  },
  {
   "cell_type": "code",
   "execution_count": 61,
   "metadata": {},
   "outputs": [],
   "source": [
    "f = Featurizer('class FooTest { public void foo() { throw new Exception(); } }')\n",
    "assert f.has_throw_statement()"
   ]
  },
  {
   "cell_type": "code",
   "execution_count": 62,
   "metadata": {},
   "outputs": [],
   "source": [
    "f = Featurizer('class FooTest { public void foo() { System.out.println(\"Hello\"); } }')\n",
    "assert not f.has_if_statement()"
   ]
  },
  {
   "cell_type": "code",
   "execution_count": 63,
   "metadata": {},
   "outputs": [],
   "source": [
    "f = Featurizer('class FooTest { public void foo() { System.out.println(\"Hello\"); } }')\n",
    "assert f.has_function_call()"
   ]
  },
  {
   "cell_type": "code",
   "execution_count": null,
   "metadata": {},
   "outputs": [],
   "source": []
  }
 ],
 "metadata": {
  "interpreter": {
   "hash": "f8722ba49b3127895a986893a0dabf8c1d60f2b5af6c1a30edefcc1a4d98fbf0"
  },
  "kernelspec": {
   "display_name": "Python 3.8.13 64-bit ('3.8.13')",
   "language": "python",
   "name": "python3"
  },
  "language_info": {
   "codemirror_mode": {
    "name": "ipython",
    "version": 3
   },
   "file_extension": ".py",
   "mimetype": "text/x-python",
   "name": "python",
   "nbconvert_exporter": "python",
   "pygments_lexer": "ipython3",
   "version": "3.8.13"
  },
  "orig_nbformat": 4
 },
 "nbformat": 4,
 "nbformat_minor": 2
}
